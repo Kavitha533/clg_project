{
 "cells": [
  {
   "cell_type": "code",
   "execution_count": 1,
   "metadata": {},
   "outputs": [
    {
     "data": {
      "text/plain": [
       "'C:\\\\Users\\\\hp\\\\Desktop\\\\Hospital management'"
      ]
     },
     "execution_count": 1,
     "metadata": {},
     "output_type": "execute_result"
    }
   ],
   "source": [
    "import os\n",
    "os.getcwd()"
   ]
  },
  {
   "cell_type": "code",
   "execution_count": null,
   "metadata": {},
   "outputs": [],
   "source": [
    "os.chdir(\"C:/Users/hp/Desktop/Hospital management\")"
   ]
  },
  {
   "cell_type": "code",
   "execution_count": 1,
   "metadata": {},
   "outputs": [],
   "source": [
    "a=open(\"dataa.csv\",\"r\")"
   ]
  },
  {
   "cell_type": "code",
   "execution_count": 2,
   "metadata": {},
   "outputs": [
    {
     "name": "stdout",
     "output_type": "stream",
     "text": [
      "<_io.TextIOWrapper name='dataa.csv' mode='r' encoding='cp1252'>\n"
     ]
    }
   ],
   "source": [
    "print(a)"
   ]
  },
  {
   "cell_type": "code",
   "execution_count": 3,
   "metadata": {},
   "outputs": [
    {
     "name": "stdout",
     "output_type": "stream",
     "text": [
      "Patient Id,Age,Gender,Consultant Doctor Id,Diagnosis,Diagnosis_Status,No Of Days,Medical Prescription,Hospital Infrastructure,Health Condition\n",
      "101,26,f,deepthi,Pregnant,cured,1,low,good,moderate\n",
      "102,51,m,sravan,fever,cured,3,low,good,moderate\n",
      "103,60,m,sravan,fever,not cured,5,high,good,serious\n",
      "99,48,m,sravan,fever,progress,2,moderate,good,moderate\n",
      "100,50,m,sravan,fever chills,cured,2,moderate,good,moderate\n",
      "96,17,m,sravan,fever cough,cured,3,moderate,good,infection\n",
      "97,51,m,bali reddy,perineal abcess,progress,4,high,low,serious\n",
      "98,30,m,sravan,fever cough,cured,3,low,low,infection\n",
      "87,11,m,bali reddy,appendix,not cured,10,high,advanced,serious\n",
      "88,35,m,bali reddy,breathing difficulty  chest pain,cured,4,moderate,good,infection\n",
      "89,27,f,deepthi,pregnant,cured,1,moderate,good,moderate\n",
      "90,19,m,bali reddy,appendix,not cured,7,high,advanced,serious\n",
      "91,35,m,sravan,fever chills,cured,2,moderate,good,moderate\n",
      "92,46,m,sravan,fever chills,cured,3,moderate,good,moderate\n",
      "93,24,m,sravan,scrub,not cured,4,high,good,moderate\n",
      "94,70,m,sravan,illness,cured,1,low,poor,moderate\n",
      "95,45,m,sravan,illness,cured,2,low,poor,moderate\n",
      "79,60,m,srinivasulu,copd,progress,4,moderate,good,moderate\n",
      "78,29,m,sravan,fever,cured,3,moderate,good,moderate\n",
      "77,13,m,sri charan,fever chills,cured,2,moderate,good,moderate\n",
      "76,12,m,sri charan,dengue,cured,4,moderate,good,infection\n",
      "83,42,m,sravan,fever,cured,2,moderate,good,moderate\n",
      "82,35,m,sravan,fever,progress,1,low,low,moderate\n",
      "81,50,m,srinivasulu,fever,cured,3,medium,good,infection\n",
      "86,18,m,sravan,poly arthities,cured,4,moderate,good,moderate\n",
      "85,30,m,deepthi,vomitings,cured,2,moderate,good,moderate\n",
      "84,31,f,deepthi,vomitings,cured,2,moderate,good,moderate\n",
      "76,27,f,deepthi,pregnant,cured,1,moderate,good,moderate\n",
      "75,25,f,deepthi,pregnant,cured,1,moderate,good,moderate\n",
      "23,45,m,vinod,eftihia,cured,3,low,good,moderate\n",
      "24,79,m,sravan,asthma,cured,4,moderate,advanced,recovery\n",
      "25,58,m,sravan,fever,progress,5,high,advanced,moderate\n",
      "26,55,m,sravan,viral fever,not cured,3,high,poor,serious\n",
      "21,31,f,deepthi,pregnant,cured,2,moderate,good,recovery\n",
      "22,21,m,bali reddy,appendix,not cured,10,high,advanced,serious\n",
      "16,47,m,sravan,viral fever,cured,5,low,good,moderate\n",
      "17,16,f,bali reddy,appendix,not cured,15,high,advanced,serious\n",
      "18,21,f,bali reddy,appendix,progress,9,moderate,good,infection\n",
      "19,52,f,sravan,viral fever,progress,6,low,good,moderate\n",
      "20,22,m,sravan,viral fever,cured,4,low,good,recovery\n",
      "14,16,m,sravan,viral fever,not cured,7,high,good,recovery\n",
      "15,22,m,sravan,viral fever,cured,5,moderate,poor,recovery\n",
      "10,33,m,sravan,viral fever,progress,4,low,good,infection\n",
      "11,56,f,sravan,viral fever,cured,5,moderate,poor,recovery\n",
      "12,24,f,deepthi,appendix,cured,8,high,advanced,infection\n",
      "13,56,f,deepthi,vomitings,cured,3,low,good,recovery\n",
      "1,17,m,sravan,viral fever,cured,4,moderate,good,recovery\n",
      "2,60,m,sravan,scrub,progress,3,moderate,poor,moderate\n",
      "3,26,f,deepthi,appendix,cured,15,moderate,advanced,infection\n",
      "71,30,m,sravan,fever,cured,5,moderate,advanced,serious\n",
      "29,53,f,sravan,fever,cured,4,moderate,advanced,serious\n",
      "30,15,m,sravan,fever,cured,2,moderate,poor,moderate\n",
      "31,28,f,sravan,acidity,cured,1,moderate,good,moderate\n",
      "32,22,f,deepthi,pregnant,cured,6,high,advanced,serious\n",
      "33,20,f,deepthi,pregnant,cured,2,moderate,good,moderate\n",
      "34,20,f,deepthi,pregnant,cured,7,high,advanced,serious\n",
      "66,47,m,srinivasulu,fever,cured,2,low,poor,infection\n",
      "67,22,f,deepthi,vomitings,cured,2,moderate,good,moderate\n",
      "44,50,m,sravan,hypokalimia,not cured,10,high,moderate,serious\n",
      "45,8,f,srikar,dengue +ve,cured,5,moderate,advanced,moderate\n",
      "46,35,m,sravan,fever,cured,2,low,advanced,moderate\n",
      "47,55,m,sravan,aft,not cured,15,high,poor,serious\n",
      "48,60,f,sravan,fever,cured,2,low,advanced,moderate\n",
      "49,50,m,sravan,viral fever,cured,10,moderate,good,serious\n",
      "50,40,f,deepthi,open hystestomy,not cured,12,moderate,poor,serious\n",
      "51,15,m,sravan,typhoid,cured,10,moderate,good,serious\n",
      "52,50,f,dinesh,asthma,progress,1,moderate,good,serious\n",
      "53,55,m,kalpana,diabetes,progress,1,high,good,serious\n",
      "54,38,m,sravan,bodypains,cured,3,high,good,serious\n",
      "55,18,f,sravan,headache,cured,2,moderate,advanced,serious\n",
      "56,25,f,dinesh,asthma,progress,1,moderate,good,moderate\n",
      "57,27,f,deepthi,pregnant,cured,1,moderate,advanced,serious\n",
      "58,30,m,balireddy,appendix,cured,2,moderate,good,serious\n",
      "59,32,m,dinesh,asthma,progress,1,high,good,recovery\n",
      "60,9,m,sricharan,esinophlia,not cured,5,high,poor,serious\n",
      "61,48,m,kalpana,diabetes,progress,1,high,good,serious\n",
      "62,32,f,deepthi,pregnant,cured,1,moderate,good,moderate\n",
      "63,20,m,sravan,typhoid,cured,5,moderate,good,moderate\n",
      "64,28,m,deepthi,open hystestomy,not cured,12,moderate,poor,serious\n",
      "65,30,f,sravan,bodypains,cured,2,moderate,advanced,serious\n",
      "56,48,m,sravan,dengue,cured,4,moderate,advanced,serious\n",
      "57,35,m,sravan,fever,cured,3,moderate,poor,moderate\n",
      "58,27,f,deepthi,pregnant,cured,7,moderate,advanced,serious\n",
      "55,1,m,deepthi,fever,cured,4,moderate,poor,infection\n",
      "54,21,f,sravan,dengue,cured,7,moderate,advanced,serious\n",
      "53,60,m,sravan,stomouch pains,cured,3,moderate,poor,serious\n",
      "52,48,m,sravan,fever,cured,2,moderate,poor,infection\n",
      "50,27,f,srinivasulu,fever,cured,2,high,advanced,serious\n",
      "43,24,f,sravan,appendix,cured,7,high,advanced,infection\n"
     ]
    }
   ],
   "source": [
    "print(a.read())"
   ]
  },
  {
   "cell_type": "code",
   "execution_count": 4,
   "metadata": {},
   "outputs": [
    {
     "ename": "NameError",
     "evalue": "name 'read_csv' is not defined",
     "output_type": "error",
     "traceback": [
      "\u001b[1;31m---------------------------------------------------------------------------\u001b[0m",
      "\u001b[1;31mNameError\u001b[0m                                 Traceback (most recent call last)",
      "\u001b[1;32m<ipython-input-4-58a3c88681db>\u001b[0m in \u001b[0;36m<module>\u001b[1;34m\u001b[0m\n\u001b[1;32m----> 1\u001b[1;33m \u001b[0md\u001b[0m\u001b[1;33m=\u001b[0m\u001b[0mread_csv\u001b[0m\u001b[1;33m(\u001b[0m\u001b[1;34m\"dataa.csv\"\u001b[0m\u001b[1;33m)\u001b[0m\u001b[1;33m\u001b[0m\u001b[1;33m\u001b[0m\u001b[0m\n\u001b[0m",
      "\u001b[1;31mNameError\u001b[0m: name 'read_csv' is not defined"
     ]
    }
   ],
   "source": [
    "d=read_csv(\"dataa.csv\")"
   ]
  },
  {
   "cell_type": "code",
   "execution_count": 5,
   "metadata": {},
   "outputs": [],
   "source": [
    "import numpy\n"
   ]
  },
  {
   "cell_type": "code",
   "execution_count": 6,
   "metadata": {},
   "outputs": [],
   "source": [
    "import matplotlib.pyplot as plt"
   ]
  },
  {
   "cell_type": "code",
   "execution_count": 7,
   "metadata": {},
   "outputs": [],
   "source": [
    "import pandas as pd"
   ]
  },
  {
   "cell_type": "code",
   "execution_count": 8,
   "metadata": {},
   "outputs": [],
   "source": [
    "data=pd.read_csv(\"dataa.csv\")"
   ]
  },
  {
   "cell_type": "code",
   "execution_count": 9,
   "metadata": {},
   "outputs": [
    {
     "name": "stdout",
     "output_type": "stream",
     "text": [
      "    Patient Id  Age Gender Consultant Doctor Id       Diagnosis  \\\n",
      "0          101   26      f              deepthi        Pregnant   \n",
      "1          102   51      m               sravan           fever   \n",
      "2          103   60      m               sravan           fever   \n",
      "3           99   48      m               sravan           fever   \n",
      "4          100   50      m               sravan    fever chills   \n",
      "..         ...  ...    ...                  ...             ...   \n",
      "84          54   21      f               sravan          dengue   \n",
      "85          53   60      m               sravan  stomouch pains   \n",
      "86          52   48      m               sravan           fever   \n",
      "87          50   27      f          srinivasulu           fever   \n",
      "88          43   24      f               sravan        appendix   \n",
      "\n",
      "   Diagnosis_Status  No Of Days Medical Prescription Hospital Infrastructure  \\\n",
      "0             cured           1                  low                    good   \n",
      "1             cured           3                  low                    good   \n",
      "2         not cured           5                 high                    good   \n",
      "3          progress           2             moderate                    good   \n",
      "4             cured           2             moderate                    good   \n",
      "..              ...         ...                  ...                     ...   \n",
      "84            cured           7             moderate                advanced   \n",
      "85            cured           3             moderate                    poor   \n",
      "86            cured           2             moderate                    poor   \n",
      "87            cured           2                 high                advanced   \n",
      "88            cured           7                 high                advanced   \n",
      "\n",
      "   Health Condition  \n",
      "0          moderate  \n",
      "1          moderate  \n",
      "2           serious  \n",
      "3          moderate  \n",
      "4          moderate  \n",
      "..              ...  \n",
      "84          serious  \n",
      "85          serious  \n",
      "86        infection  \n",
      "87          serious  \n",
      "88        infection  \n",
      "\n",
      "[89 rows x 10 columns]\n"
     ]
    }
   ],
   "source": [
    "print(data)"
   ]
  },
  {
   "cell_type": "code",
   "execution_count": 10,
   "metadata": {},
   "outputs": [],
   "source": [
    "x=data.iloc[:,:]"
   ]
  },
  {
   "cell_type": "code",
   "execution_count": 11,
   "metadata": {},
   "outputs": [],
   "source": [
    "y=data.iloc[:,-1]"
   ]
  },
  {
   "cell_type": "code",
   "execution_count": 12,
   "metadata": {},
   "outputs": [
    {
     "data": {
      "text/plain": [
       "0      moderate\n",
       "1      moderate\n",
       "2       serious\n",
       "3      moderate\n",
       "4      moderate\n",
       "        ...    \n",
       "84      serious\n",
       "85      serious\n",
       "86    infection\n",
       "87      serious\n",
       "88    infection\n",
       "Name: Health Condition, Length: 89, dtype: object"
      ]
     },
     "execution_count": 12,
     "metadata": {},
     "output_type": "execute_result"
    }
   ],
   "source": [
    "y"
   ]
  },
  {
   "cell_type": "code",
   "execution_count": 13,
   "metadata": {},
   "outputs": [],
   "source": [
    " \n",
    "from sklearn.ensemble import RandomForestRegressor \n",
    "\n",
    "# create regressor object \n",
    "#regressor = RandomForestRegressor(n_estimators = 100, random_state = 0) \n",
    "\n",
    "# fit the regressor with x and y data \n",
    "#regressor.fit(x, y) \n"
   ]
  },
  {
   "cell_type": "code",
   "execution_count": 14,
   "metadata": {},
   "outputs": [],
   "source": [
    "regressor = RandomForestRegressor(n_estimators = 100, random_state = 0) "
   ]
  },
  {
   "cell_type": "code",
   "execution_count": 15,
   "metadata": {},
   "outputs": [],
   "source": [
    "p=x[\"Consultant Doctor Id\"]\n",
    "o=x[\"Age\"]\n",
    "q=x[\"Gender\"]\n",
    "r=x[\"Diagnosis_Status\"]\n",
    "s=x[\"No Of Days\"]\n",
    "t=x[\"Medical Prescription\"]\n",
    "u=x[\"Hospital Infrastructure\"]\n",
    "v=x[\"Diagnosis\"]\n",
    "w=x[\"Health Condition\"]"
   ]
  },
  {
   "cell_type": "code",
   "execution_count": 16,
   "metadata": {},
   "outputs": [
    {
     "data": {
      "text/plain": [
       "array(['moderate', 'serious', 'infection', 'recovery'], dtype=object)"
      ]
     },
     "execution_count": 16,
     "metadata": {},
     "output_type": "execute_result"
    }
   ],
   "source": [
    "w.unique()"
   ]
  },
  {
   "cell_type": "code",
   "execution_count": 17,
   "metadata": {},
   "outputs": [
    {
     "data": {
      "text/plain": [
       "array(['Pregnant', 'fever', 'fever chills', 'fever cough',\n",
       "       'perineal abcess', 'appendix', 'breathing difficulty  chest pain',\n",
       "       'pregnant', 'scrub', 'illness', 'copd', 'dengue', 'poly arthities',\n",
       "       'vomitings', 'eftihia', 'asthma', 'viral fever', 'acidity',\n",
       "       'hypokalimia', 'dengue +ve', 'aft', 'open hystestomy', 'typhoid',\n",
       "       'diabetes', 'bodypains', 'headache', 'esinophlia',\n",
       "       'stomouch pains'], dtype=object)"
      ]
     },
     "execution_count": 17,
     "metadata": {},
     "output_type": "execute_result"
    }
   ],
   "source": [
    "v.unique()"
   ]
  },
  {
   "cell_type": "code",
   "execution_count": 18,
   "metadata": {},
   "outputs": [],
   "source": [
    "import csv\n",
    "with open('sravanModifiedData.csv', mode='w') as csv_file:\n",
    "    fieldnames = ['Age', 'Gender', 'Doctor_Id','Diagnosis','No Of Days','Medical Prescription','Hospital Infrastructure','Health Condition']\n",
    "    writer = csv.DictWriter(csv_file, fieldnames=fieldnames)\n",
    "    writer.writeheader()\n",
    "    for i in range(len(p)):\n",
    "        if p[i]==\"sravan\":\n",
    "            p1=1\n",
    "        elif p[i]==\"deepthi\":\n",
    "            p1=2\n",
    "        elif p[i]==\"bali reddy\":\n",
    "            p1=3\n",
    "        elif p[i]==\"srinivasulu\":\n",
    "            p1=4\n",
    "        elif p[i]==\"kalpana\":\n",
    "            p1=5\n",
    "        elif p[i]==\"vinod\":\n",
    "            p1=6\n",
    "        elif p[i]==\"sri charan\":\n",
    "            p1=7\n",
    "        elif p[i]==\"sricharan\":\n",
    "            p1=7\n",
    "        elif p[i]==\"balireddy\":\n",
    "            p1=3\n",
    "        elif p[i]==\"srikar\":\n",
    "            p1=8\n",
    "        else:\n",
    "            p1=0\n",
    "        if q[0]==\"f\":\n",
    "            q1=0\n",
    "        else:\n",
    "            q1=1\n",
    "        if r[i]==\"cured\":\n",
    "            r1=0\n",
    "        elif r[i]==\"not cured\":\n",
    "            r1=1\n",
    "        else:\n",
    "            r1=2 \n",
    "        if t[i]==\"low\":\n",
    "            t1=0\n",
    "        elif t[i]==\"medium\" or t[i]==\"moderate\":\n",
    "            t1=1\n",
    "        elif t[i]==\"high\":\n",
    "            t1=2\n",
    "        else:\n",
    "            t1=-1\n",
    "        if u[i]==\"low\" or u[i]==\"poor\":\n",
    "            u1=0\n",
    "        elif u[i]==\"moderate\" or u[i]==\"good\":\n",
    "            u1=1\n",
    "        else:\n",
    "            u1=2\n",
    "        if v[i]==\"Pregnant\" or v[i]==\"pregnant\":\n",
    "            v1=1\n",
    "        elif v[i]==\"fever\":\n",
    "            v1=2\n",
    "        elif v[i]==\"fever chills\":\n",
    "            v1=3\n",
    "        elif v[i]==\"fever cough\":\n",
    "            v1=4\n",
    "        elif v[i]==\"appendix\":\n",
    "            v1=5\n",
    "        elif v[i]==\"breathing difficulty chest pain\":\n",
    "            v1=6\n",
    "        elif v[i]==\"scrub\":\n",
    "            v1=7\n",
    "        elif v[i]==\"illness\":\n",
    "            v1=8\n",
    "        elif v[i]==\"copd\":\n",
    "            v1=9\n",
    "        elif v[i]==\"dengue\" or v[i]==\"dengue +ve\":\n",
    "            v1=10\n",
    "        elif v[i]==\"poly arthities\":\n",
    "            v1=11\n",
    "        elif v[i]==\"vomitings\":\n",
    "            v1=12\n",
    "        elif v[i]==\"viral fever\":\n",
    "            v1=13\n",
    "        elif v[i]==\"eftihia\":\n",
    "            v1=14\n",
    "        elif v[i]==\"asthma\":\n",
    "            v1=15\n",
    "        elif v[i]==\"acidity\":\n",
    "            v1=16\n",
    "        elif v[i]==\"hypokalimia\":\n",
    "            v1=17\n",
    "        elif v[i]==\"aft\":\n",
    "            v1=18\n",
    "        elif v[i]==\"open hystestomy\":\n",
    "            v1=19\n",
    "        elif v[i]==\"typhoid\":\n",
    "            v1=20\n",
    "        elif v[i]==\"diabetes\":\n",
    "            v1=21\n",
    "        elif v[i]==\"bodypains\" or v[i]==\"stomouch pains\":\n",
    "            v1=22\n",
    "        elif v[i]==\"headache\":\n",
    "            v1=23\n",
    "        elif v[i]==\"esinophlia\":\n",
    "            v1=24\n",
    "        else:\n",
    "            v1=26\n",
    "        if w[i]==\"moderate\":\n",
    "            w1=1\n",
    "        elif w[i]==\"infection\":\n",
    "            w1=0\n",
    "        elif w[i]==\"serious\":\n",
    "            w1=2\n",
    "        else:\n",
    "            w1=3\n",
    "        if p1==1:\n",
    "            writer.writerow({'Age':o[i], 'Gender':q1, 'Doctor_Id':p1,'Diagnosis':r1,'No Of Days':s[i],'Medical Prescription':t1,'Hospital Infrastructure':u1,'Health Condition':w1})\n",
    "        "
   ]
  },
  {
   "cell_type": "code",
   "execution_count": 19,
   "metadata": {},
   "outputs": [],
   "source": [
    "g=open(\"ModifiedData.csv\",\"r\")"
   ]
  },
  {
   "cell_type": "code",
   "execution_count": 20,
   "metadata": {},
   "outputs": [],
   "source": [
    "da=pd.read_csv(\"ModifiedData.csv\")"
   ]
  },
  {
   "cell_type": "code",
   "execution_count": 21,
   "metadata": {},
   "outputs": [],
   "source": [
    "h=da.iloc[:,:-1]\n",
    "i=da.iloc[:,-1]"
   ]
  },
  {
   "cell_type": "code",
   "execution_count": 22,
   "metadata": {},
   "outputs": [],
   "source": [
    "l=h.head(1)"
   ]
  },
  {
   "cell_type": "code",
   "execution_count": 23,
   "metadata": {},
   "outputs": [
    {
     "ename": "ValueError",
     "evalue": "Input contains NaN, infinity or a value too large for dtype('float32').",
     "output_type": "error",
     "traceback": [
      "\u001b[1;31m---------------------------------------------------------------------------\u001b[0m",
      "\u001b[1;31mValueError\u001b[0m                                Traceback (most recent call last)",
      "\u001b[1;32m<ipython-input-23-ad47c41217b7>\u001b[0m in \u001b[0;36m<module>\u001b[1;34m\u001b[0m\n\u001b[1;32m----> 1\u001b[1;33m \u001b[0mregressor\u001b[0m\u001b[1;33m.\u001b[0m\u001b[0mfit\u001b[0m\u001b[1;33m(\u001b[0m\u001b[0mh\u001b[0m\u001b[1;33m,\u001b[0m \u001b[0mi\u001b[0m\u001b[1;33m)\u001b[0m\u001b[1;33m\u001b[0m\u001b[1;33m\u001b[0m\u001b[0m\n\u001b[0m",
      "\u001b[1;32mC:\\ProgramData\\Anaconda3\\lib\\site-packages\\sklearn\\ensemble\\forest.py\u001b[0m in \u001b[0;36mfit\u001b[1;34m(self, X, y, sample_weight)\u001b[0m\n\u001b[0;32m    247\u001b[0m \u001b[1;33m\u001b[0m\u001b[0m\n\u001b[0;32m    248\u001b[0m         \u001b[1;31m# Validate or convert input data\u001b[0m\u001b[1;33m\u001b[0m\u001b[1;33m\u001b[0m\u001b[1;33m\u001b[0m\u001b[0m\n\u001b[1;32m--> 249\u001b[1;33m         \u001b[0mX\u001b[0m \u001b[1;33m=\u001b[0m \u001b[0mcheck_array\u001b[0m\u001b[1;33m(\u001b[0m\u001b[0mX\u001b[0m\u001b[1;33m,\u001b[0m \u001b[0maccept_sparse\u001b[0m\u001b[1;33m=\u001b[0m\u001b[1;34m\"csc\"\u001b[0m\u001b[1;33m,\u001b[0m \u001b[0mdtype\u001b[0m\u001b[1;33m=\u001b[0m\u001b[0mDTYPE\u001b[0m\u001b[1;33m)\u001b[0m\u001b[1;33m\u001b[0m\u001b[1;33m\u001b[0m\u001b[0m\n\u001b[0m\u001b[0;32m    250\u001b[0m         \u001b[0my\u001b[0m \u001b[1;33m=\u001b[0m \u001b[0mcheck_array\u001b[0m\u001b[1;33m(\u001b[0m\u001b[0my\u001b[0m\u001b[1;33m,\u001b[0m \u001b[0maccept_sparse\u001b[0m\u001b[1;33m=\u001b[0m\u001b[1;34m'csc'\u001b[0m\u001b[1;33m,\u001b[0m \u001b[0mensure_2d\u001b[0m\u001b[1;33m=\u001b[0m\u001b[1;32mFalse\u001b[0m\u001b[1;33m,\u001b[0m \u001b[0mdtype\u001b[0m\u001b[1;33m=\u001b[0m\u001b[1;32mNone\u001b[0m\u001b[1;33m)\u001b[0m\u001b[1;33m\u001b[0m\u001b[1;33m\u001b[0m\u001b[0m\n\u001b[0;32m    251\u001b[0m         \u001b[1;32mif\u001b[0m \u001b[0msample_weight\u001b[0m \u001b[1;32mis\u001b[0m \u001b[1;32mnot\u001b[0m \u001b[1;32mNone\u001b[0m\u001b[1;33m:\u001b[0m\u001b[1;33m\u001b[0m\u001b[1;33m\u001b[0m\u001b[0m\n",
      "\u001b[1;32mC:\\ProgramData\\Anaconda3\\lib\\site-packages\\sklearn\\utils\\validation.py\u001b[0m in \u001b[0;36mcheck_array\u001b[1;34m(array, accept_sparse, accept_large_sparse, dtype, order, copy, force_all_finite, ensure_2d, allow_nd, ensure_min_samples, ensure_min_features, warn_on_dtype, estimator)\u001b[0m\n\u001b[0;32m    540\u001b[0m         \u001b[1;32mif\u001b[0m \u001b[0mforce_all_finite\u001b[0m\u001b[1;33m:\u001b[0m\u001b[1;33m\u001b[0m\u001b[1;33m\u001b[0m\u001b[0m\n\u001b[0;32m    541\u001b[0m             _assert_all_finite(array,\n\u001b[1;32m--> 542\u001b[1;33m                                allow_nan=force_all_finite == 'allow-nan')\n\u001b[0m\u001b[0;32m    543\u001b[0m \u001b[1;33m\u001b[0m\u001b[0m\n\u001b[0;32m    544\u001b[0m     \u001b[1;32mif\u001b[0m \u001b[0mensure_min_samples\u001b[0m \u001b[1;33m>\u001b[0m \u001b[1;36m0\u001b[0m\u001b[1;33m:\u001b[0m\u001b[1;33m\u001b[0m\u001b[1;33m\u001b[0m\u001b[0m\n",
      "\u001b[1;32mC:\\ProgramData\\Anaconda3\\lib\\site-packages\\sklearn\\utils\\validation.py\u001b[0m in \u001b[0;36m_assert_all_finite\u001b[1;34m(X, allow_nan)\u001b[0m\n\u001b[0;32m     54\u001b[0m                 not allow_nan and not np.isfinite(X).all()):\n\u001b[0;32m     55\u001b[0m             \u001b[0mtype_err\u001b[0m \u001b[1;33m=\u001b[0m \u001b[1;34m'infinity'\u001b[0m \u001b[1;32mif\u001b[0m \u001b[0mallow_nan\u001b[0m \u001b[1;32melse\u001b[0m \u001b[1;34m'NaN, infinity'\u001b[0m\u001b[1;33m\u001b[0m\u001b[1;33m\u001b[0m\u001b[0m\n\u001b[1;32m---> 56\u001b[1;33m             \u001b[1;32mraise\u001b[0m \u001b[0mValueError\u001b[0m\u001b[1;33m(\u001b[0m\u001b[0mmsg_err\u001b[0m\u001b[1;33m.\u001b[0m\u001b[0mformat\u001b[0m\u001b[1;33m(\u001b[0m\u001b[0mtype_err\u001b[0m\u001b[1;33m,\u001b[0m \u001b[0mX\u001b[0m\u001b[1;33m.\u001b[0m\u001b[0mdtype\u001b[0m\u001b[1;33m)\u001b[0m\u001b[1;33m)\u001b[0m\u001b[1;33m\u001b[0m\u001b[1;33m\u001b[0m\u001b[0m\n\u001b[0m\u001b[0;32m     57\u001b[0m     \u001b[1;31m# for object dtype data, we only check for NaNs (GH-13254)\u001b[0m\u001b[1;33m\u001b[0m\u001b[1;33m\u001b[0m\u001b[1;33m\u001b[0m\u001b[0m\n\u001b[0;32m     58\u001b[0m     \u001b[1;32melif\u001b[0m \u001b[0mX\u001b[0m\u001b[1;33m.\u001b[0m\u001b[0mdtype\u001b[0m \u001b[1;33m==\u001b[0m \u001b[0mnp\u001b[0m\u001b[1;33m.\u001b[0m\u001b[0mdtype\u001b[0m\u001b[1;33m(\u001b[0m\u001b[1;34m'object'\u001b[0m\u001b[1;33m)\u001b[0m \u001b[1;32mand\u001b[0m \u001b[1;32mnot\u001b[0m \u001b[0mallow_nan\u001b[0m\u001b[1;33m:\u001b[0m\u001b[1;33m\u001b[0m\u001b[1;33m\u001b[0m\u001b[0m\n",
      "\u001b[1;31mValueError\u001b[0m: Input contains NaN, infinity or a value too large for dtype('float32')."
     ]
    }
   ],
   "source": [
    "regressor.fit(h, i)"
   ]
  },
  {
   "cell_type": "code",
   "execution_count": null,
   "metadata": {},
   "outputs": [],
   "source": [
    "y_pred = regressor.predict(l) # test the output by changing values \n"
   ]
  },
  {
   "cell_type": "code",
   "execution_count": 60,
   "metadata": {},
   "outputs": [
    {
     "data": {
      "text/plain": [
       "array([1.03])"
      ]
     },
     "execution_count": 60,
     "metadata": {},
     "output_type": "execute_result"
    }
   ],
   "source": [
    "y_pred"
   ]
  },
  {
   "cell_type": "markdown",
   "metadata": {},
   "source": [
    "# Analyzing Doctors Behaviour "
   ]
  },
  {
   "cell_type": "code",
   "execution_count": 3,
   "metadata": {},
   "outputs": [],
   "source": [
    "a1=pd.read_csv(\"secondpatient.csv\")"
   ]
  },
  {
   "cell_type": "code",
   "execution_count": 4,
   "metadata": {},
   "outputs": [],
   "source": [
    "b1=a1[1::2]"
   ]
  },
  {
   "cell_type": "code",
   "execution_count": 5,
   "metadata": {},
   "outputs": [
    {
     "data": {
      "text/html": [
       "<div>\n",
       "<style scoped>\n",
       "    .dataframe tbody tr th:only-of-type {\n",
       "        vertical-align: middle;\n",
       "    }\n",
       "\n",
       "    .dataframe tbody tr th {\n",
       "        vertical-align: top;\n",
       "    }\n",
       "\n",
       "    .dataframe thead th {\n",
       "        text-align: right;\n",
       "    }\n",
       "</style>\n",
       "<table border=\"1\" class=\"dataframe\">\n",
       "  <thead>\n",
       "    <tr style=\"text-align: right;\">\n",
       "      <th></th>\n",
       "      <th>Age</th>\n",
       "      <th>Gender</th>\n",
       "      <th>Doctor_Id</th>\n",
       "      <th>Diagnosis</th>\n",
       "      <th>Health Condition</th>\n",
       "    </tr>\n",
       "  </thead>\n",
       "  <tbody>\n",
       "    <tr>\n",
       "      <td>1</td>\n",
       "      <td>26.0</td>\n",
       "      <td>0.0</td>\n",
       "      <td>2.0</td>\n",
       "      <td>0.0</td>\n",
       "      <td>1.0</td>\n",
       "    </tr>\n",
       "    <tr>\n",
       "      <td>3</td>\n",
       "      <td>51.0</td>\n",
       "      <td>0.0</td>\n",
       "      <td>1.0</td>\n",
       "      <td>0.0</td>\n",
       "      <td>1.0</td>\n",
       "    </tr>\n",
       "    <tr>\n",
       "      <td>5</td>\n",
       "      <td>60.0</td>\n",
       "      <td>0.0</td>\n",
       "      <td>1.0</td>\n",
       "      <td>1.0</td>\n",
       "      <td>2.0</td>\n",
       "    </tr>\n",
       "    <tr>\n",
       "      <td>7</td>\n",
       "      <td>48.0</td>\n",
       "      <td>0.0</td>\n",
       "      <td>1.0</td>\n",
       "      <td>2.0</td>\n",
       "      <td>1.0</td>\n",
       "    </tr>\n",
       "    <tr>\n",
       "      <td>9</td>\n",
       "      <td>50.0</td>\n",
       "      <td>0.0</td>\n",
       "      <td>1.0</td>\n",
       "      <td>0.0</td>\n",
       "      <td>1.0</td>\n",
       "    </tr>\n",
       "    <tr>\n",
       "      <td>...</td>\n",
       "      <td>...</td>\n",
       "      <td>...</td>\n",
       "      <td>...</td>\n",
       "      <td>...</td>\n",
       "      <td>...</td>\n",
       "    </tr>\n",
       "    <tr>\n",
       "      <td>169</td>\n",
       "      <td>21.0</td>\n",
       "      <td>0.0</td>\n",
       "      <td>1.0</td>\n",
       "      <td>0.0</td>\n",
       "      <td>2.0</td>\n",
       "    </tr>\n",
       "    <tr>\n",
       "      <td>171</td>\n",
       "      <td>60.0</td>\n",
       "      <td>0.0</td>\n",
       "      <td>1.0</td>\n",
       "      <td>0.0</td>\n",
       "      <td>2.0</td>\n",
       "    </tr>\n",
       "    <tr>\n",
       "      <td>173</td>\n",
       "      <td>48.0</td>\n",
       "      <td>0.0</td>\n",
       "      <td>1.0</td>\n",
       "      <td>0.0</td>\n",
       "      <td>0.0</td>\n",
       "    </tr>\n",
       "    <tr>\n",
       "      <td>175</td>\n",
       "      <td>27.0</td>\n",
       "      <td>0.0</td>\n",
       "      <td>4.0</td>\n",
       "      <td>0.0</td>\n",
       "      <td>2.0</td>\n",
       "    </tr>\n",
       "    <tr>\n",
       "      <td>177</td>\n",
       "      <td>24.0</td>\n",
       "      <td>0.0</td>\n",
       "      <td>1.0</td>\n",
       "      <td>0.0</td>\n",
       "      <td>0.0</td>\n",
       "    </tr>\n",
       "  </tbody>\n",
       "</table>\n",
       "<p>89 rows × 5 columns</p>\n",
       "</div>"
      ],
      "text/plain": [
       "      Age  Gender  Doctor_Id  Diagnosis  Health Condition\n",
       "1    26.0     0.0        2.0        0.0               1.0\n",
       "3    51.0     0.0        1.0        0.0               1.0\n",
       "5    60.0     0.0        1.0        1.0               2.0\n",
       "7    48.0     0.0        1.0        2.0               1.0\n",
       "9    50.0     0.0        1.0        0.0               1.0\n",
       "..    ...     ...        ...        ...               ...\n",
       "169  21.0     0.0        1.0        0.0               2.0\n",
       "171  60.0     0.0        1.0        0.0               2.0\n",
       "173  48.0     0.0        1.0        0.0               0.0\n",
       "175  27.0     0.0        4.0        0.0               2.0\n",
       "177  24.0     0.0        1.0        0.0               0.0\n",
       "\n",
       "[89 rows x 5 columns]"
      ]
     },
     "execution_count": 5,
     "metadata": {},
     "output_type": "execute_result"
    }
   ],
   "source": [
    "b1"
   ]
  },
  {
   "cell_type": "code",
   "execution_count": 6,
   "metadata": {},
   "outputs": [],
   "source": [
    "ca1=b1.iloc[:,:-1]\n",
    "ca2=b1.iloc[:,-1]\n",
    "la1=ca1.head(1)"
   ]
  },
  {
   "cell_type": "code",
   "execution_count": 7,
   "metadata": {},
   "outputs": [],
   "source": [
    "import pandas as pd \n",
    "import numpy as np \n",
    "import matplotlib.pyplot as plt \n"
   ]
  },
  {
   "cell_type": "code",
   "execution_count": 8,
   "metadata": {},
   "outputs": [
    {
     "name": "stderr",
     "output_type": "stream",
     "text": [
      "C:\\ProgramData\\Anaconda3\\lib\\site-packages\\sklearn\\linear_model\\logistic.py:432: FutureWarning: Default solver will be changed to 'lbfgs' in 0.22. Specify a solver to silence this warning.\n",
      "  FutureWarning)\n",
      "C:\\ProgramData\\Anaconda3\\lib\\site-packages\\sklearn\\linear_model\\logistic.py:469: FutureWarning: Default multi_class will be changed to 'auto' in 0.22. Specify the multi_class option to silence this warning.\n",
      "  \"this warning.\", FutureWarning)\n"
     ]
    },
    {
     "data": {
      "text/plain": [
       "LogisticRegression(C=1.0, class_weight=None, dual=False, fit_intercept=True,\n",
       "                   intercept_scaling=1, l1_ratio=None, max_iter=100,\n",
       "                   multi_class='warn', n_jobs=None, penalty='l2',\n",
       "                   random_state=0, solver='warn', tol=0.0001, verbose=0,\n",
       "                   warm_start=False)"
      ]
     },
     "execution_count": 8,
     "metadata": {},
     "output_type": "execute_result"
    }
   ],
   "source": [
    "from sklearn.linear_model import LogisticRegression \n",
    "classifier = LogisticRegression(random_state = 0) \n",
    "classifier.fit(ca1,ca2) \n"
   ]
  },
  {
   "cell_type": "code",
   "execution_count": 9,
   "metadata": {},
   "outputs": [],
   "source": [
    "y_pred = classifier.predict(la1) \n"
   ]
  },
  {
   "cell_type": "code",
   "execution_count": 10,
   "metadata": {},
   "outputs": [
    {
     "data": {
      "text/plain": [
       "array([1.])"
      ]
     },
     "execution_count": 10,
     "metadata": {},
     "output_type": "execute_result"
    }
   ],
   "source": [
    "y_pred"
   ]
  },
  {
   "cell_type": "code",
   "execution_count": 11,
   "metadata": {},
   "outputs": [],
   "source": [
    "from sklearn.model_selection import train_test_split"
   ]
  },
  {
   "cell_type": "code",
   "execution_count": 12,
   "metadata": {},
   "outputs": [],
   "source": [
    "x_train,x_test,y_train,y_test=train_test_split(ca1,ca2,test_size=0.30,random_state=1)"
   ]
  },
  {
   "cell_type": "code",
   "execution_count": 13,
   "metadata": {},
   "outputs": [
    {
     "ename": "NameError",
     "evalue": "name 'xtrain' is not defined",
     "output_type": "error",
     "traceback": [
      "\u001b[1;31m---------------------------------------------------------------------------\u001b[0m",
      "\u001b[1;31mNameError\u001b[0m                                 Traceback (most recent call last)",
      "\u001b[1;32m<ipython-input-13-7bd311e1eea5>\u001b[0m in \u001b[0;36m<module>\u001b[1;34m\u001b[0m\n\u001b[0;32m      4\u001b[0m \u001b[0mx_test\u001b[0m \u001b[1;33m=\u001b[0m \u001b[0msc_x\u001b[0m\u001b[1;33m.\u001b[0m\u001b[0mtransform\u001b[0m\u001b[1;33m(\u001b[0m\u001b[0mx_test\u001b[0m\u001b[1;33m)\u001b[0m\u001b[1;33m\u001b[0m\u001b[1;33m\u001b[0m\u001b[0m\n\u001b[0;32m      5\u001b[0m \u001b[1;33m\u001b[0m\u001b[0m\n\u001b[1;32m----> 6\u001b[1;33m \u001b[0mprint\u001b[0m \u001b[1;33m(\u001b[0m\u001b[0mxtrain\u001b[0m\u001b[1;33m[\u001b[0m\u001b[1;36m0\u001b[0m\u001b[1;33m:\u001b[0m\u001b[1;36m10\u001b[0m\u001b[1;33m,\u001b[0m \u001b[1;33m:\u001b[0m\u001b[1;33m]\u001b[0m\u001b[1;33m)\u001b[0m\u001b[1;33m\u001b[0m\u001b[1;33m\u001b[0m\u001b[0m\n\u001b[0m",
      "\u001b[1;31mNameError\u001b[0m: name 'xtrain' is not defined"
     ]
    }
   ],
   "source": [
    "from sklearn.preprocessing import StandardScaler \n",
    "sc_x = StandardScaler() \n",
    "x_train = sc_x.fit_transform(x_train) \n",
    "x_test = sc_x.transform(x_test) \n",
    "\n",
    "print (xtrain[0:10, :]) \n"
   ]
  },
  {
   "cell_type": "code",
   "execution_count": 14,
   "metadata": {},
   "outputs": [
    {
     "name": "stderr",
     "output_type": "stream",
     "text": [
      "C:\\ProgramData\\Anaconda3\\lib\\site-packages\\sklearn\\linear_model\\logistic.py:432: FutureWarning: Default solver will be changed to 'lbfgs' in 0.22. Specify a solver to silence this warning.\n",
      "  FutureWarning)\n",
      "C:\\ProgramData\\Anaconda3\\lib\\site-packages\\sklearn\\linear_model\\logistic.py:469: FutureWarning: Default multi_class will be changed to 'auto' in 0.22. Specify the multi_class option to silence this warning.\n",
      "  \"this warning.\", FutureWarning)\n"
     ]
    },
    {
     "data": {
      "text/plain": [
       "LogisticRegression(C=1.0, class_weight=None, dual=False, fit_intercept=True,\n",
       "                   intercept_scaling=1, l1_ratio=None, max_iter=100,\n",
       "                   multi_class='warn', n_jobs=None, penalty='l2',\n",
       "                   random_state=0, solver='warn', tol=0.0001, verbose=0,\n",
       "                   warm_start=False)"
      ]
     },
     "execution_count": 14,
     "metadata": {},
     "output_type": "execute_result"
    }
   ],
   "source": [
    "from sklearn.linear_model import LogisticRegression \n",
    "classifier = LogisticRegression(random_state = 0) \n",
    "classifier.fit(x_train, y_train) \n"
   ]
  },
  {
   "cell_type": "code",
   "execution_count": 16,
   "metadata": {},
   "outputs": [
    {
     "data": {
      "text/plain": [
       "array([1., 2., 1., 1., 1., 2., 2., 1., 1., 2., 1., 2., 1., 1., 1., 1., 1.,\n",
       "       1., 2., 1., 1., 2., 2., 1., 1., 1., 1.])"
      ]
     },
     "execution_count": 16,
     "metadata": {},
     "output_type": "execute_result"
    }
   ],
   "source": [
    "y_pred = classifier.predict(x_test) \n",
    "y_pred"
   ]
  },
  {
   "cell_type": "code",
   "execution_count": 17,
   "metadata": {},
   "outputs": [
    {
     "name": "stdout",
     "output_type": "stream",
     "text": [
      "Confusion Matrix : \n",
      " [[0 2 1 0]\n",
      " [0 6 5 0]\n",
      " [0 6 1 0]\n",
      " [0 5 1 0]]\n"
     ]
    }
   ],
   "source": [
    "from sklearn.metrics import confusion_matrix \n",
    "cm = confusion_matrix(y_test,y_pred) \n",
    "\n",
    "print (\"Confusion Matrix : \\n\", cm) \n"
   ]
  },
  {
   "cell_type": "code",
   "execution_count": 18,
   "metadata": {},
   "outputs": [
    {
     "name": "stdout",
     "output_type": "stream",
     "text": [
      "Accuracy :  0.25925925925925924\n"
     ]
    }
   ],
   "source": [
    "from sklearn.metrics import accuracy_score \n",
    "print (\"Accuracy : \", accuracy_score(y_test, y_pred)) \n"
   ]
  },
  {
   "cell_type": "code",
   "execution_count": 19,
   "metadata": {},
   "outputs": [],
   "source": [
    "import seaborn as sb"
   ]
  },
  {
   "cell_type": "code",
   "execution_count": 23,
   "metadata": {},
   "outputs": [],
   "source": [
    "import matplotlib.pyplot as pt"
   ]
  },
  {
   "cell_type": "code",
   "execution_count": 41,
   "metadata": {},
   "outputs": [
    {
     "data": {
      "text/plain": [
       "0      moderate\n",
       "1      moderate\n",
       "2       serious\n",
       "3      moderate\n",
       "4      moderate\n",
       "        ...    \n",
       "84      serious\n",
       "85      serious\n",
       "86    infection\n",
       "87      serious\n",
       "88    infection\n",
       "Name: Health Condition, Length: 89, dtype: object"
      ]
     },
     "execution_count": 41,
     "metadata": {},
     "output_type": "execute_result"
    }
   ],
   "source": [
    "x=data.iloc[:,3]\n",
    "x\n",
    "y=data.iloc[:,-1]\n",
    "y"
   ]
  },
  {
   "cell_type": "code",
   "execution_count": 43,
   "metadata": {},
   "outputs": [
    {
     "data": {
      "text/html": [
       "<div>\n",
       "<style scoped>\n",
       "    .dataframe tbody tr th:only-of-type {\n",
       "        vertical-align: middle;\n",
       "    }\n",
       "\n",
       "    .dataframe tbody tr th {\n",
       "        vertical-align: top;\n",
       "    }\n",
       "\n",
       "    .dataframe thead th {\n",
       "        text-align: right;\n",
       "    }\n",
       "</style>\n",
       "<table border=\"1\" class=\"dataframe\">\n",
       "  <thead>\n",
       "    <tr style=\"text-align: right;\">\n",
       "      <th></th>\n",
       "      <th>Patient Id</th>\n",
       "      <th>Age</th>\n",
       "      <th>Gender</th>\n",
       "      <th>Consultant Doctor Id</th>\n",
       "      <th>Diagnosis</th>\n",
       "      <th>Diagnosis_Status</th>\n",
       "      <th>No Of Days</th>\n",
       "      <th>Medical Prescription</th>\n",
       "      <th>Hospital Infrastructure</th>\n",
       "      <th>Health Condition</th>\n",
       "    </tr>\n",
       "  </thead>\n",
       "  <tbody>\n",
       "    <tr>\n",
       "      <td>0</td>\n",
       "      <td>101</td>\n",
       "      <td>26</td>\n",
       "      <td>f</td>\n",
       "      <td>deepthi</td>\n",
       "      <td>Pregnant</td>\n",
       "      <td>cured</td>\n",
       "      <td>1</td>\n",
       "      <td>low</td>\n",
       "      <td>good</td>\n",
       "      <td>moderate</td>\n",
       "    </tr>\n",
       "    <tr>\n",
       "      <td>1</td>\n",
       "      <td>102</td>\n",
       "      <td>51</td>\n",
       "      <td>m</td>\n",
       "      <td>sravan</td>\n",
       "      <td>fever</td>\n",
       "      <td>cured</td>\n",
       "      <td>3</td>\n",
       "      <td>low</td>\n",
       "      <td>good</td>\n",
       "      <td>moderate</td>\n",
       "    </tr>\n",
       "    <tr>\n",
       "      <td>2</td>\n",
       "      <td>103</td>\n",
       "      <td>60</td>\n",
       "      <td>m</td>\n",
       "      <td>sravan</td>\n",
       "      <td>fever</td>\n",
       "      <td>not cured</td>\n",
       "      <td>5</td>\n",
       "      <td>high</td>\n",
       "      <td>good</td>\n",
       "      <td>serious</td>\n",
       "    </tr>\n",
       "    <tr>\n",
       "      <td>3</td>\n",
       "      <td>99</td>\n",
       "      <td>48</td>\n",
       "      <td>m</td>\n",
       "      <td>sravan</td>\n",
       "      <td>fever</td>\n",
       "      <td>progress</td>\n",
       "      <td>2</td>\n",
       "      <td>moderate</td>\n",
       "      <td>good</td>\n",
       "      <td>moderate</td>\n",
       "    </tr>\n",
       "    <tr>\n",
       "      <td>4</td>\n",
       "      <td>100</td>\n",
       "      <td>50</td>\n",
       "      <td>m</td>\n",
       "      <td>sravan</td>\n",
       "      <td>fever chills</td>\n",
       "      <td>cured</td>\n",
       "      <td>2</td>\n",
       "      <td>moderate</td>\n",
       "      <td>good</td>\n",
       "      <td>moderate</td>\n",
       "    </tr>\n",
       "    <tr>\n",
       "      <td>...</td>\n",
       "      <td>...</td>\n",
       "      <td>...</td>\n",
       "      <td>...</td>\n",
       "      <td>...</td>\n",
       "      <td>...</td>\n",
       "      <td>...</td>\n",
       "      <td>...</td>\n",
       "      <td>...</td>\n",
       "      <td>...</td>\n",
       "      <td>...</td>\n",
       "    </tr>\n",
       "    <tr>\n",
       "      <td>84</td>\n",
       "      <td>54</td>\n",
       "      <td>21</td>\n",
       "      <td>f</td>\n",
       "      <td>sravan</td>\n",
       "      <td>dengue</td>\n",
       "      <td>cured</td>\n",
       "      <td>7</td>\n",
       "      <td>moderate</td>\n",
       "      <td>advanced</td>\n",
       "      <td>serious</td>\n",
       "    </tr>\n",
       "    <tr>\n",
       "      <td>85</td>\n",
       "      <td>53</td>\n",
       "      <td>60</td>\n",
       "      <td>m</td>\n",
       "      <td>sravan</td>\n",
       "      <td>stomouch pains</td>\n",
       "      <td>cured</td>\n",
       "      <td>3</td>\n",
       "      <td>moderate</td>\n",
       "      <td>poor</td>\n",
       "      <td>serious</td>\n",
       "    </tr>\n",
       "    <tr>\n",
       "      <td>86</td>\n",
       "      <td>52</td>\n",
       "      <td>48</td>\n",
       "      <td>m</td>\n",
       "      <td>sravan</td>\n",
       "      <td>fever</td>\n",
       "      <td>cured</td>\n",
       "      <td>2</td>\n",
       "      <td>moderate</td>\n",
       "      <td>poor</td>\n",
       "      <td>infection</td>\n",
       "    </tr>\n",
       "    <tr>\n",
       "      <td>87</td>\n",
       "      <td>50</td>\n",
       "      <td>27</td>\n",
       "      <td>f</td>\n",
       "      <td>srinivasulu</td>\n",
       "      <td>fever</td>\n",
       "      <td>cured</td>\n",
       "      <td>2</td>\n",
       "      <td>high</td>\n",
       "      <td>advanced</td>\n",
       "      <td>serious</td>\n",
       "    </tr>\n",
       "    <tr>\n",
       "      <td>88</td>\n",
       "      <td>43</td>\n",
       "      <td>24</td>\n",
       "      <td>f</td>\n",
       "      <td>sravan</td>\n",
       "      <td>appendix</td>\n",
       "      <td>cured</td>\n",
       "      <td>7</td>\n",
       "      <td>high</td>\n",
       "      <td>advanced</td>\n",
       "      <td>infection</td>\n",
       "    </tr>\n",
       "  </tbody>\n",
       "</table>\n",
       "<p>89 rows × 10 columns</p>\n",
       "</div>"
      ],
      "text/plain": [
       "    Patient Id  Age Gender Consultant Doctor Id       Diagnosis  \\\n",
       "0          101   26      f              deepthi        Pregnant   \n",
       "1          102   51      m               sravan           fever   \n",
       "2          103   60      m               sravan           fever   \n",
       "3           99   48      m               sravan           fever   \n",
       "4          100   50      m               sravan    fever chills   \n",
       "..         ...  ...    ...                  ...             ...   \n",
       "84          54   21      f               sravan          dengue   \n",
       "85          53   60      m               sravan  stomouch pains   \n",
       "86          52   48      m               sravan           fever   \n",
       "87          50   27      f          srinivasulu           fever   \n",
       "88          43   24      f               sravan        appendix   \n",
       "\n",
       "   Diagnosis_Status  No Of Days Medical Prescription Hospital Infrastructure  \\\n",
       "0             cured           1                  low                    good   \n",
       "1             cured           3                  low                    good   \n",
       "2         not cured           5                 high                    good   \n",
       "3          progress           2             moderate                    good   \n",
       "4             cured           2             moderate                    good   \n",
       "..              ...         ...                  ...                     ...   \n",
       "84            cured           7             moderate                advanced   \n",
       "85            cured           3             moderate                    poor   \n",
       "86            cured           2             moderate                    poor   \n",
       "87            cured           2                 high                advanced   \n",
       "88            cured           7                 high                advanced   \n",
       "\n",
       "   Health Condition  \n",
       "0          moderate  \n",
       "1          moderate  \n",
       "2           serious  \n",
       "3          moderate  \n",
       "4          moderate  \n",
       "..              ...  \n",
       "84          serious  \n",
       "85          serious  \n",
       "86        infection  \n",
       "87          serious  \n",
       "88        infection  \n",
       "\n",
       "[89 rows x 10 columns]"
      ]
     },
     "execution_count": 43,
     "metadata": {},
     "output_type": "execute_result"
    }
   ],
   "source": [
    "\n",
    "    "
   ]
  },
  {
   "cell_type": "code",
   "execution_count": 29,
   "metadata": {},
   "outputs": [
    {
     "data": {
      "text/plain": [
       "Text(0, 0.5, 'Disease Number')"
      ]
     },
     "execution_count": 29,
     "metadata": {},
     "output_type": "execute_result"
    },
    {
     "data": {
      "image/png": "[encoded data removed]",
      "text/plain": [
       "<Figure size 432x288 with 1 Axes>"
      ]
     },
     "metadata": {
      "needs_background": "light"
     },
     "output_type": "display_data"
    }
   ],
   "source": [
    "plt.xlabel(\"Doctors Id\")\n",
    "plt.ylabel(\"Disease Number\")"
   ]
  },
  {
   "cell_type": "code",
   "execution_count": 53,
   "metadata": {},
   "outputs": [],
   "source": [
    "a2=pd.read_csv(\"sravanModifiedData.csv\")"
   ]
  },
  {
   "cell_type": "code",
   "execution_count": 58,
   "metadata": {},
   "outputs": [],
   "source": [
    "x=a2.iloc[:,3]\n",
    "x\n",
    "y=a2.iloc[:,-1]\n",
    "z=a2.iloc[:,4]"
   ]
  },
  {
   "cell_type": "code",
   "execution_count": 62,
   "metadata": {},
   "outputs": [
    {
     "ename": "ValueError",
     "evalue": "`bins` must increase monotonically, when an array",
     "output_type": "error",
     "traceback": [
      "\u001b[1;31m---------------------------------------------------------------------------\u001b[0m",
      "\u001b[1;31mValueError\u001b[0m                                Traceback (most recent call last)",
      "\u001b[1;32m<ipython-input-62-57b4fd9080db>\u001b[0m in \u001b[0;36m<module>\u001b[1;34m\u001b[0m\n\u001b[1;32m----> 1\u001b[1;33m \u001b[0mplt\u001b[0m\u001b[1;33m.\u001b[0m\u001b[0mhist\u001b[0m\u001b[1;33m(\u001b[0m\u001b[0mx\u001b[0m\u001b[1;33m,\u001b[0m\u001b[0my\u001b[0m\u001b[1;33m,\u001b[0m\u001b[1;36m100\u001b[0m\u001b[1;33m,\u001b[0m\u001b[0mcolor\u001b[0m\u001b[1;33m=\u001b[0m\u001b[1;34m'green'\u001b[0m\u001b[1;33m,\u001b[0m\u001b[0mhisttype\u001b[0m\u001b[1;33m=\u001b[0m\u001b[1;34m'bar'\u001b[0m\u001b[1;33m,\u001b[0m\u001b[0mrwidth\u001b[0m\u001b[1;33m=\u001b[0m\u001b[1;36m0.8\u001b[0m\u001b[1;33m)\u001b[0m\u001b[1;33m\u001b[0m\u001b[1;33m\u001b[0m\u001b[0m\n\u001b[0m",
      "\u001b[1;32mC:\\ProgramData\\Anaconda3\\lib\\site-packages\\matplotlib\\pyplot.py\u001b[0m in \u001b[0;36mhist\u001b[1;34m(x, bins, range, density, weights, cumulative, bottom, histtype, align, orientation, rwidth, log, color, label, stacked, normed, data, **kwargs)\u001b[0m\n\u001b[0;32m   2640\u001b[0m         \u001b[0malign\u001b[0m\u001b[1;33m=\u001b[0m\u001b[0malign\u001b[0m\u001b[1;33m,\u001b[0m \u001b[0morientation\u001b[0m\u001b[1;33m=\u001b[0m\u001b[0morientation\u001b[0m\u001b[1;33m,\u001b[0m \u001b[0mrwidth\u001b[0m\u001b[1;33m=\u001b[0m\u001b[0mrwidth\u001b[0m\u001b[1;33m,\u001b[0m \u001b[0mlog\u001b[0m\u001b[1;33m=\u001b[0m\u001b[0mlog\u001b[0m\u001b[1;33m,\u001b[0m\u001b[1;33m\u001b[0m\u001b[1;33m\u001b[0m\u001b[0m\n\u001b[0;32m   2641\u001b[0m         \u001b[0mcolor\u001b[0m\u001b[1;33m=\u001b[0m\u001b[0mcolor\u001b[0m\u001b[1;33m,\u001b[0m \u001b[0mlabel\u001b[0m\u001b[1;33m=\u001b[0m\u001b[0mlabel\u001b[0m\u001b[1;33m,\u001b[0m \u001b[0mstacked\u001b[0m\u001b[1;33m=\u001b[0m\u001b[0mstacked\u001b[0m\u001b[1;33m,\u001b[0m \u001b[0mnormed\u001b[0m\u001b[1;33m=\u001b[0m\u001b[0mnormed\u001b[0m\u001b[1;33m,\u001b[0m\u001b[1;33m\u001b[0m\u001b[1;33m\u001b[0m\u001b[0m\n\u001b[1;32m-> 2642\u001b[1;33m         **({\"data\": data} if data is not None else {}), **kwargs)\n\u001b[0m\u001b[0;32m   2643\u001b[0m \u001b[1;33m\u001b[0m\u001b[0m\n\u001b[0;32m   2644\u001b[0m \u001b[1;33m\u001b[0m\u001b[0m\n",
      "\u001b[1;32mC:\\ProgramData\\Anaconda3\\lib\\site-packages\\matplotlib\\__init__.py\u001b[0m in \u001b[0;36minner\u001b[1;34m(ax, data, *args, **kwargs)\u001b[0m\n\u001b[0;32m   1599\u001b[0m     \u001b[1;32mdef\u001b[0m \u001b[0minner\u001b[0m\u001b[1;33m(\u001b[0m\u001b[0max\u001b[0m\u001b[1;33m,\u001b[0m \u001b[1;33m*\u001b[0m\u001b[0margs\u001b[0m\u001b[1;33m,\u001b[0m \u001b[0mdata\u001b[0m\u001b[1;33m=\u001b[0m\u001b[1;32mNone\u001b[0m\u001b[1;33m,\u001b[0m \u001b[1;33m**\u001b[0m\u001b[0mkwargs\u001b[0m\u001b[1;33m)\u001b[0m\u001b[1;33m:\u001b[0m\u001b[1;33m\u001b[0m\u001b[1;33m\u001b[0m\u001b[0m\n\u001b[0;32m   1600\u001b[0m         \u001b[1;32mif\u001b[0m \u001b[0mdata\u001b[0m \u001b[1;32mis\u001b[0m \u001b[1;32mNone\u001b[0m\u001b[1;33m:\u001b[0m\u001b[1;33m\u001b[0m\u001b[1;33m\u001b[0m\u001b[0m\n\u001b[1;32m-> 1601\u001b[1;33m             \u001b[1;32mreturn\u001b[0m \u001b[0mfunc\u001b[0m\u001b[1;33m(\u001b[0m\u001b[0max\u001b[0m\u001b[1;33m,\u001b[0m \u001b[1;33m*\u001b[0m\u001b[0mmap\u001b[0m\u001b[1;33m(\u001b[0m\u001b[0msanitize_sequence\u001b[0m\u001b[1;33m,\u001b[0m \u001b[0margs\u001b[0m\u001b[1;33m)\u001b[0m\u001b[1;33m,\u001b[0m \u001b[1;33m**\u001b[0m\u001b[0mkwargs\u001b[0m\u001b[1;33m)\u001b[0m\u001b[1;33m\u001b[0m\u001b[1;33m\u001b[0m\u001b[0m\n\u001b[0m\u001b[0;32m   1602\u001b[0m \u001b[1;33m\u001b[0m\u001b[0m\n\u001b[0;32m   1603\u001b[0m         \u001b[0mbound\u001b[0m \u001b[1;33m=\u001b[0m \u001b[0mnew_sig\u001b[0m\u001b[1;33m.\u001b[0m\u001b[0mbind\u001b[0m\u001b[1;33m(\u001b[0m\u001b[0max\u001b[0m\u001b[1;33m,\u001b[0m \u001b[1;33m*\u001b[0m\u001b[0margs\u001b[0m\u001b[1;33m,\u001b[0m \u001b[1;33m**\u001b[0m\u001b[0mkwargs\u001b[0m\u001b[1;33m)\u001b[0m\u001b[1;33m\u001b[0m\u001b[1;33m\u001b[0m\u001b[0m\n",
      "\u001b[1;32mC:\\ProgramData\\Anaconda3\\lib\\site-packages\\matplotlib\\axes\\_axes.py\u001b[0m in \u001b[0;36mhist\u001b[1;34m(self, x, bins, range, density, weights, cumulative, bottom, histtype, align, orientation, rwidth, log, color, label, stacked, normed, **kwargs)\u001b[0m\n\u001b[0;32m   6765\u001b[0m             \u001b[1;31m# this will automatically overwrite bins,\u001b[0m\u001b[1;33m\u001b[0m\u001b[1;33m\u001b[0m\u001b[1;33m\u001b[0m\u001b[0m\n\u001b[0;32m   6766\u001b[0m             \u001b[1;31m# so that each histogram uses the same bins\u001b[0m\u001b[1;33m\u001b[0m\u001b[1;33m\u001b[0m\u001b[1;33m\u001b[0m\u001b[0m\n\u001b[1;32m-> 6767\u001b[1;33m             \u001b[0mm\u001b[0m\u001b[1;33m,\u001b[0m \u001b[0mbins\u001b[0m \u001b[1;33m=\u001b[0m \u001b[0mnp\u001b[0m\u001b[1;33m.\u001b[0m\u001b[0mhistogram\u001b[0m\u001b[1;33m(\u001b[0m\u001b[0mx\u001b[0m\u001b[1;33m[\u001b[0m\u001b[0mi\u001b[0m\u001b[1;33m]\u001b[0m\u001b[1;33m,\u001b[0m \u001b[0mbins\u001b[0m\u001b[1;33m,\u001b[0m \u001b[0mweights\u001b[0m\u001b[1;33m=\u001b[0m\u001b[0mw\u001b[0m\u001b[1;33m[\u001b[0m\u001b[0mi\u001b[0m\u001b[1;33m]\u001b[0m\u001b[1;33m,\u001b[0m \u001b[1;33m**\u001b[0m\u001b[0mhist_kwargs\u001b[0m\u001b[1;33m)\u001b[0m\u001b[1;33m\u001b[0m\u001b[1;33m\u001b[0m\u001b[0m\n\u001b[0m\u001b[0;32m   6768\u001b[0m             \u001b[0mm\u001b[0m \u001b[1;33m=\u001b[0m \u001b[0mm\u001b[0m\u001b[1;33m.\u001b[0m\u001b[0mastype\u001b[0m\u001b[1;33m(\u001b[0m\u001b[0mfloat\u001b[0m\u001b[1;33m)\u001b[0m  \u001b[1;31m# causes problems later if it's an int\u001b[0m\u001b[1;33m\u001b[0m\u001b[1;33m\u001b[0m\u001b[0m\n\u001b[0;32m   6769\u001b[0m             \u001b[1;32mif\u001b[0m \u001b[0mmlast\u001b[0m \u001b[1;32mis\u001b[0m \u001b[1;32mNone\u001b[0m\u001b[1;33m:\u001b[0m\u001b[1;33m\u001b[0m\u001b[1;33m\u001b[0m\u001b[0m\n",
      "\u001b[1;32mC:\\ProgramData\\Anaconda3\\lib\\site-packages\\numpy\\lib\\histograms.py\u001b[0m in \u001b[0;36mhistogram\u001b[1;34m(a, bins, range, normed, weights, density)\u001b[0m\n\u001b[0;32m    778\u001b[0m     \u001b[0ma\u001b[0m\u001b[1;33m,\u001b[0m \u001b[0mweights\u001b[0m \u001b[1;33m=\u001b[0m \u001b[0m_ravel_and_check_weights\u001b[0m\u001b[1;33m(\u001b[0m\u001b[0ma\u001b[0m\u001b[1;33m,\u001b[0m \u001b[0mweights\u001b[0m\u001b[1;33m)\u001b[0m\u001b[1;33m\u001b[0m\u001b[1;33m\u001b[0m\u001b[0m\n\u001b[0;32m    779\u001b[0m \u001b[1;33m\u001b[0m\u001b[0m\n\u001b[1;32m--> 780\u001b[1;33m     \u001b[0mbin_edges\u001b[0m\u001b[1;33m,\u001b[0m \u001b[0muniform_bins\u001b[0m \u001b[1;33m=\u001b[0m \u001b[0m_get_bin_edges\u001b[0m\u001b[1;33m(\u001b[0m\u001b[0ma\u001b[0m\u001b[1;33m,\u001b[0m \u001b[0mbins\u001b[0m\u001b[1;33m,\u001b[0m \u001b[0mrange\u001b[0m\u001b[1;33m,\u001b[0m \u001b[0mweights\u001b[0m\u001b[1;33m)\u001b[0m\u001b[1;33m\u001b[0m\u001b[1;33m\u001b[0m\u001b[0m\n\u001b[0m\u001b[0;32m    781\u001b[0m \u001b[1;33m\u001b[0m\u001b[0m\n\u001b[0;32m    782\u001b[0m     \u001b[1;31m# Histogram is an integer or a float array depending on the weights.\u001b[0m\u001b[1;33m\u001b[0m\u001b[1;33m\u001b[0m\u001b[1;33m\u001b[0m\u001b[0m\n",
      "\u001b[1;32mC:\\ProgramData\\Anaconda3\\lib\\site-packages\\numpy\\lib\\histograms.py\u001b[0m in \u001b[0;36m_get_bin_edges\u001b[1;34m(a, bins, range, weights)\u001b[0m\n\u001b[0;32m    421\u001b[0m         \u001b[1;32mif\u001b[0m \u001b[0mnp\u001b[0m\u001b[1;33m.\u001b[0m\u001b[0many\u001b[0m\u001b[1;33m(\u001b[0m\u001b[0mbin_edges\u001b[0m\u001b[1;33m[\u001b[0m\u001b[1;33m:\u001b[0m\u001b[1;33m-\u001b[0m\u001b[1;36m1\u001b[0m\u001b[1;33m]\u001b[0m \u001b[1;33m>\u001b[0m \u001b[0mbin_edges\u001b[0m\u001b[1;33m[\u001b[0m\u001b[1;36m1\u001b[0m\u001b[1;33m:\u001b[0m\u001b[1;33m]\u001b[0m\u001b[1;33m)\u001b[0m\u001b[1;33m:\u001b[0m\u001b[1;33m\u001b[0m\u001b[1;33m\u001b[0m\u001b[0m\n\u001b[0;32m    422\u001b[0m             raise ValueError(\n\u001b[1;32m--> 423\u001b[1;33m                 '`bins` must increase monotonically, when an array')\n\u001b[0m\u001b[0;32m    424\u001b[0m \u001b[1;33m\u001b[0m\u001b[0m\n\u001b[0;32m    425\u001b[0m     \u001b[1;32melse\u001b[0m\u001b[1;33m:\u001b[0m\u001b[1;33m\u001b[0m\u001b[1;33m\u001b[0m\u001b[0m\n",
      "\u001b[1;31mValueError\u001b[0m: `bins` must increase monotonically, when an array"
     ]
    },
    {
     "data": {
      "image/png": "[encoded data removed]",
      "text/plain": [
       "<Figure size 432x288 with 1 Axes>"
      ]
     },
     "metadata": {
      "needs_background": "light"
     },
     "output_type": "display_data"
    }
   ],
   "source": [
    "plt.hist(x,y,100,color='green',histtype='bar',rwidth=0.8)"
   ]
  },
  {
   "cell_type": "code",
   "execution_count": null,
   "metadata": {},
   "outputs": [],
   "source": []
  }
 ],
 "metadata": {
  "kernelspec": {
   "display_name": "Python 3",
   "language": "python",
   "name": "python3"
  },
  "language_info": {
   "codemirror_mode": {
    "name": "ipython",
    "version": 3
   },
   "file_extension": ".py",
   "mimetype": "text/x-python",
   "name": "python",
   "nbconvert_exporter": "python",
   "pygments_lexer": "ipython3",
   "version": "3.7.1"
  }
 },
 "nbformat": 4,
 "nbformat_minor": 2
}
